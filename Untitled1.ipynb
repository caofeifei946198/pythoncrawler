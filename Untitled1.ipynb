{
 "metadata": {
  "name": "",
  "signature": "sha256:b26340790585f54d289e8ca0af88518a51b29d981045c71896f50789750766b6"
 },
 "nbformat": 3,
 "nbformat_minor": 0,
 "worksheets": [
  {
   "cells": [
    {
     "cell_type": "code",
     "collapsed": false,
     "input": [
      "import requests\n",
      "from bs4 import BeautifulSoup\n",
      "import json\n",
      "import time\n",
      "\n",
      "\n",
      "\n",
      "\n",
      "def crawl_detail(id):\n",
      "    url = \"https://www.lagou.com/jobs/%s.html\" % id\n",
      "    headers = {\n",
      "                \"Host\":\"www.lagou.com\",\n",
      "                \"Referer\":\"https://www.lagou.com/jobs/list_python?px=default&city=%E5%8C%97%E4%BA%AC\",\n",
      "                \"Upgrade-Insecure-Requests\":\"1\",\n",
      "                \"User-Agent\":\"Mozilla/5.0 (X11; Linux x86_64) AppleWebKit/537.36 (KHTML, like Gecko) Chrome/61.0.3163.79 Safari/537.36\"\n",
      "}\n",
      "    req = requests.get(url, headers=headers)\n",
      "    soup = BeautifulSoup(req.text,\"html.parser\")\n",
      "    dd = soup.find(\"dd\", attrs = {\"class\":\"job_bt\"})\n",
      "    print (dd.text)\n",
      "#find_all\u6ca1\u6709text\u5c5e\u6027\n",
      "    #print (req.text)\n",
      "\n",
      "def main():\n",
      "\n",
      "    headers = {\"User-Agent\":\"Mozilla/5.0 (X11; Linux x86_64) AppleWebKit/537.36 (KHTML,like Gecko) Chrome/61.0.3163.79 Safari/537.36\",\n",
      "               \"Host\":\"www.lagou.com\",\n",
      "                \"Referer\":\"https://www.lagou.com/jobs/list_python?px=default&city=%E5%8C%97%E4%BA%AC\",\n",
      "                \"X-Requested-With\":\"XMLHttpRequest\",\n",
      "\n",
      "                 \"X-Anit-Forge-Token\":\"None\",\n",
      "\n",
      "                 \"X-Anit-Forge-Code\":\"0\"}\n",
      "    form_data = {\"first\":\"true\",\n",
      "             \"pn\":\"1\",\n",
      "             \"kd\":\"python\"}\n",
      "    positions = []\n",
      "    for x in range(0,5):\n",
      "        form_data = {\"first\":\"true\",\n",
      "             \"pn\":\"1\",\n",
      "            \"kd\":\"python\"}\n",
      "    \n",
      "        result = requests.post(\"https://www.lagou.com/jobs/positionAjax.json?px=default&city=%E5%8C%97%E4%BA%AC&needAddtionalResult=false&isSchoolJob=0\", \n",
      "                          headers=headers, data = form_data)\n",
      "         #res.encoding = \"utf-8\"\n",
      "        json_result =  result.json()\n",
      "        print (\"-\"*30)\n",
      "        print(json_result)\n",
      "        print(\"-\"*30)\n",
      "        page_positions = json_result[\"content\"][\"positionResult\"][\"result\"]\n",
      "        # positions.extend(page_positions\n",
      "        for position in page_positions:\n",
      "            position_dict = {\n",
      "                \"companyId\":position[\"companyId\"],\n",
      "                \n",
      "                 \"salary\":position[\"salary\"],\n",
      "                \"positionName\":position[\"positionName\"],\n",
      "                \"district\":position[\"district\"]\n",
      " }\n",
      "            positionId = position[\"positionId\"]  \n",
      "            position_detail = crawl_detail(positionId)\n",
      "            position_dict[\"position_detail\"] = position_detail\n",
      "            positions.append(position_dict)\n",
      "            #time.sleep(3)#\u9632\u6b62\u8bf7\u6c42\u9891\u7e41\n",
      "     #for position in positions:\n",
      "         #print (position)\n",
      "   # line = json.dumps(positions, ensure_ascii=False)\n",
      "#     with open(\"lagou.json\", \"w\") as fp:\n",
      "#         fp.write(line.encode(\"utf-8\"))\n",
      "    \n",
      "    \n",
      "    \n",
      "    \n",
      "if __name__==\"__main__\":\n",
      "    main()\n",
      "    #crawl_detail()\n",
      "    "
     ],
     "language": "python",
     "metadata": {},
     "outputs": [
      {
       "output_type": "stream",
       "stream": "stdout",
       "text": [
        "------------------------------\n",
        "{'content': {'pageNo': 1, 'pageSize': 15, 'hrInfoMap': {'3232579': {'portrait': 'i/image/M00/15/44/CgqKkVbrbbuAIVHnAAAZlmCB9XM802.jpg', 'receiveEmail': None, 'userLevel': 'G1', 'positionName': 'HR', 'canTalk': True, 'phone': None, 'userId': 1368080, 'realName': 'iHandy HR'}, '3374435': {'portrait': 'i/image/M00/8F/C1/Cgp3O1iVikGAPXOeAACMunVmcFU39.jpeg', 'receiveEmail': None, 'userLevel': 'G1', 'positionName': 'HR', 'canTalk': True, 'phone': None, 'userId': 6273671, 'realName': '\u66f9\u9e64\u99a8'}, '3469697': {'portrait': 'i/image/M00/2C/4D/CgqKkVc5M8SARhDlAAkNwWLM3ls595.JPG', 'receiveEmail': None, 'userLevel': 'G1', 'positionName': 'Veeva', 'canTalk': True, 'phone': None, 'userId': 5091742, 'realName': 'wendy.tian'}, '3065206': {'portrait': 'i/image/M00/8B/17/Cgp3O1h4RxiAJY73AABMu0FZcYY044.jpg', 'receiveEmail': None, 'userLevel': 'G1', 'positionName': 'HR', 'canTalk': True, 'phone': None, 'userId': 6779573, 'realName': '\u5c0f\u76df'}, '2182008': {'portrait': 'i/image/M00/4B/DD/CgqKkVegmp6AVr94AABF5NEFceI68.jpeg', 'receiveEmail': None, 'userLevel': 'G1', 'positionName': 'HR', 'canTalk': True, 'phone': None, 'userId': 5821959, 'realName': 'Amber'}, '3455542': {'portrait': 'i/image/M00/1A/19/CgpEMlj9c0-Ad5QOAAAhIx74qu428.jpeg', 'receiveEmail': None, 'userLevel': 'G1', 'positionName': '', 'canTalk': True, 'phone': None, 'userId': 12496, 'realName': 'Zoe'}, '2879999': {'portrait': 'i/image/M00/6F/E3/CgpFT1m6cFmAKZ9WAABdYKouMkY009.png', 'receiveEmail': None, 'userLevel': 'G1', 'positionName': '\u4eba\u529b\u8d44\u6e90\u7ecf\u7406', 'canTalk': True, 'phone': None, 'userId': 77669, 'realName': 'eddie'}, '3174411': {'portrait': None, 'receiveEmail': None, 'userLevel': 'G1', 'positionName': None, 'canTalk': True, 'phone': None, 'userId': 7744664, 'realName': 'haozeng'}, '3001213': {'portrait': None, 'receiveEmail': None, 'userLevel': 'G1', 'positionName': None, 'canTalk': True, 'phone': None, 'userId': 5630085, 'realName': 'jin_tian'}, '3578712': {'portrait': 'image1/M00/0C/6A/Cgo8PFT1XC6ADB7WAAA1BmI6kLg323.jpg', 'receiveEmail': None, 'userLevel': 'G1', 'positionName': 'HR Manager', 'canTalk': True, 'phone': None, 'userId': 39658, 'realName': '\u7530\u5973\u58eb'}, '2483626': {'portrait': 'i/image/M00/72/82/Cgp3O1gscBCAaqDmAAD5uLM-F-s75.jpeg', 'receiveEmail': None, 'userLevel': 'G1', 'positionName': 'HRD', 'canTalk': True, 'phone': None, 'userId': 462992, 'realName': 'Vikki'}, '3192578': {'portrait': None, 'receiveEmail': None, 'userLevel': 'G1', 'positionName': '\u62db\u8058', 'canTalk': True, 'phone': None, 'userId': 4787943, 'realName': 'Susan liu'}, '3486245': {'portrait': None, 'receiveEmail': None, 'userLevel': 'G1', 'positionName': '', 'canTalk': True, 'phone': None, 'userId': 4815379, 'realName': 'bille.qiu'}, '3167076': {'portrait': None, 'receiveEmail': None, 'userLevel': 'G1', 'positionName': 'HR', 'canTalk': True, 'phone': None, 'userId': 45948, 'realName': 'Alex'}, '2528713': {'portrait': 'image1/M00/28/3A/Cgo8PFVeoxaAVtl0AAAMhpiNgQ0122.jpg', 'receiveEmail': None, 'userLevel': 'G1', 'positionName': '\u8054\u5408\u521b\u59cb\u4eba', 'canTalk': True, 'phone': None, 'userId': 1641645, 'realName': '\u5cb3\u6606'}}, 'positionResult': {'queryAnalysisInfo': {'industryName': None, 'usefulCompany': False, 'positionName': 'python', 'companyName': None}, 'locationInfo': {'district': None, 'locationCode': None, 'city': '\u5317\u4eac', 'queryByGisCode': False, 'businessZone': None}, 'hotLabels': None, 'strategyProperty': {'name': 'dm-csearch-useUserInterest', 'id': 0}, 'totalCount': 504, 'resultSize': 15, 'result': [{'plus': None, 'district': '\u671d\u9633\u533a', 'businessZones': None, 'salary': '15k-25k', 'positionName': 'Python\u8f6f\u4ef6\u5f00\u53d1\u5de5\u7a0b\u5e08', 'createTime': '2017-09-14 10:28:52', 'promotionScoreExplain': None, 'appShow': 0, 'industryLables': ['\u4e91\u8ba1\u7b97', '\u9ad8\u7ea7', '\u4e2d\u7ea7', 'web', 'Java'], 'workYear': '3-5\u5e74', 'positionId': 3469697, 'deliver': 0, 'companyLabelList': ['\u884c\u4e1a\u9886\u5148', '\u8d85\u957f\u5e74\u5047', '\u5e74\u5ea6\u65c5\u6e38'], 'positionAdvantage': '\u7ebd\u4ea4\u6240\u4e0a\u5e02,\u4e91\u8ba1\u7b97,SaaS,\u751f\u547d\u79d1\u5b66', 'positionLables': ['\u4e91\u8ba1\u7b97', '\u9ad8\u7ea7', '\u4e2d\u7ea7', 'web', 'Java'], 'companyId': 42934, 'formatCreateTime': '10:28\u53d1\u5e03', 'score': 0, 'firstType': '\u5f00\u53d1/\u6d4b\u8bd5/\u8fd0\u7ef4\u7c7b', 'companyFullName': '\u7ef4\u6211\u8f6f\u4ef6\uff08\u4e0a\u6d77\uff09\u6709\u9650\u516c\u53f8\u5317\u4eac\u5206\u516c\u53f8', 'education': '\u672c\u79d1', 'city': '\u5317\u4eac', 'companySize': '500-2000\u4eba', 'pcShow': 0, 'imState': 'today', 'lastLogin': 1505361289000, 'companyShortName': 'Veeva', 'gradeDescription': None, 'jobNature': '\u5168\u804c', 'industryField': '\u79fb\u52a8\u4e92\u8054\u7f51,\u4f01\u4e1a\u670d\u52a1', 'secondType': '\u540e\u7aef\u5f00\u53d1', 'publisherId': 5091742, 'adWord': 0, 'isSchoolJob': 0, 'approve': 1, 'explain': None, 'financeStage': '\u4e0a\u5e02\u516c\u53f8', 'companyLogo': 'i/image/M00/A8/85/Cgp3O1iuvKuAYcaEAAAT4UaL6bw127.png'}, {'plus': None, 'district': '\u6d77\u6dc0\u533a', 'businessZones': ['\u897f\u4e8c\u65d7'], 'salary': '15k-20k', 'positionName': 'Python\u5f00\u53d1\u5de5\u7a0b\u5e08', 'createTime': '2017-09-14 10:52:57', 'promotionScoreExplain': None, 'appShow': 0, 'industryLables': [], 'workYear': '3-5\u5e74', 'positionId': 3001213, 'deliver': 0, 'companyLabelList': ['\u4e94\u9669\u4e00\u91d1', '\u5f39\u6027\u5de5\u4f5c', '\u4ea4\u901a\u8865\u52a9', '\u5b9a\u671f\u4f53\u68c0'], 'positionAdvantage': '\u4e03\u9669\u4e00\u91d1,\u798f\u5229\u5065\u5168,\u5e74\u7ec8\u5956,\u5e73\u53f0\u5927', 'positionLables': ['linux'], 'companyId': 9995, 'formatCreateTime': '10:52\u53d1\u5e03', 'score': 0, 'firstType': '\u5f00\u53d1/\u6d4b\u8bd5/\u8fd0\u7ef4\u7c7b', 'companyFullName': '\u5317\u4eac\u5929\u878d\u4fe1\u7f51\u7edc\u5b89\u5168', 'education': '\u672c\u79d1', 'city': '\u5317\u4eac', 'companySize': '2000\u4eba\u4ee5\u4e0a', 'pcShow': 0, 'imState': 'today', 'lastLogin': 1505357570000, 'companyShortName': '\u5317\u4eac\u5929\u878d\u4fe1\u516c\u53f8', 'gradeDescription': None, 'jobNature': '\u5168\u804c', 'industryField': '\u4fe1\u606f\u5b89\u5168', 'secondType': '\u540e\u7aef\u5f00\u53d1', 'publisherId': 5630085, 'adWord': 0, 'isSchoolJob': 0, 'approve': 1, 'explain': None, 'financeStage': '\u4e0a\u5e02\u516c\u53f8', 'companyLogo': 'i/image/M00/00/96/Cgp3O1ZOk2WAF-VNAABfjim7IyU208.jpg'}, {'plus': None, 'district': '\u671d\u9633\u533a', 'businessZones': ['\u4e09\u5143\u6865'], 'salary': '15k-25k', 'positionName': 'Python\u7814\u53d1\u5de5\u7a0b\u5e08', 'createTime': '2017-09-14 10:33:01', 'promotionScoreExplain': None, 'appShow': 0, 'industryLables': [], 'workYear': '3-5\u5e74', 'positionId': 3374435, 'deliver': 0, 'companyLabelList': ['\u8d28\u91cf\u53ef\u89c6', '\u4e94\u9669\u4e00\u91d1', '\u5e26\u85aa\u5e74\u5047', '\u901a\u8baf\u6d25\u8d34'], 'positionAdvantage': '\u4e03\u9669\u4e00\u91d1,\u4e00\u6d41\u6280\u672f\u56e2,\u4e0d\u6253\u5361,\u9879\u76ee\u597d', 'positionLables': ['js', 'Java', 'web'], 'companyId': 6750, 'formatCreateTime': '10:33\u53d1\u5e03', 'score': 0, 'firstType': '\u5f00\u53d1/\u6d4b\u8bd5/\u8fd0\u7ef4\u7c7b', 'companyFullName': '\u5317\u4eac\u57fa\u8c03\u7f51\u7edc\u80a1\u4efd\u6709\u9650\u516c\u53f8', 'education': '\u672c\u79d1', 'city': '\u5317\u4eac', 'companySize': '150-500\u4eba', 'pcShow': 0, 'imState': 'today', 'lastLogin': 1505380241000, 'companyShortName': '\u542c\u4e91', 'gradeDescription': None, 'jobNature': '\u5168\u804c', 'industryField': '\u6570\u636e\u670d\u52a1,\u4f01\u4e1a\u670d\u52a1', 'secondType': '\u540e\u7aef\u5f00\u53d1', 'publisherId': 6273671, 'adWord': 0, 'isSchoolJob': 0, 'approve': 1, 'explain': None, 'financeStage': '\u4e0a\u5e02\u516c\u53f8', 'companyLogo': 'image2/M00/06/9B/CgpzWlX6ekaAQjBbAABIwcyEFpg907.jpg'}, {'plus': None, 'district': '\u6d77\u6dc0\u533a', 'businessZones': None, 'salary': '15k-30k', 'positionName': 'python\u5f00\u53d1\u5de5\u7a0b\u5e08', 'createTime': '2017-09-14 15:17:56', 'promotionScoreExplain': None, 'appShow': 0, 'industryLables': ['\u786c\u4ef6\u5236\u9020', '\u540e\u7aef\u5f00\u53d1', 'linux', 'php', 'Java', 'MySQL'], 'workYear': '5-10\u5e74', 'positionId': 3578712, 'deliver': 0, 'companyLabelList': ['\u79d1\u6280\u5927\u725b\u516c\u53f8', '\u81ea\u52a9\u4e09\u9910', '\u5e74\u7ec8\u591a\u85aa', '\u8d85\u957f\u5e26\u85aa\u5047\u671f'], 'positionAdvantage': '\u5927\u725b\u591a', 'positionLables': ['\u786c\u4ef6\u5236\u9020', '\u540e\u7aef\u5f00\u53d1', 'linux', 'php', 'Java', 'MySQL'], 'companyId': 1561, 'formatCreateTime': '15:17\u53d1\u5e03', 'score': 0, 'firstType': '\u5f00\u53d1/\u6d4b\u8bd5/\u8fd0\u7ef4\u7c7b', 'companyFullName': '\u5317\u4eac\u65f7\u89c6\u79d1\u6280\u6709\u9650\u516c\u53f8', 'education': '\u672c\u79d1', 'city': '\u5317\u4eac', 'companySize': '500-2000\u4eba', 'pcShow': 0, 'imState': 'today', 'lastLogin': 1505384098000, 'companyShortName': 'Face++', 'gradeDescription': None, 'jobNature': '\u5168\u804c', 'industryField': '\u79fb\u52a8\u4e92\u8054\u7f51,\u786c\u4ef6', 'secondType': '\u540e\u7aef\u5f00\u53d1', 'publisherId': 39658, 'adWord': 0, 'isSchoolJob': 0, 'approve': 1, 'explain': None, 'financeStage': '\u6210\u719f\u578b(C\u8f6e)', 'companyLogo': 'i/image/M00/8A/62/CgqKkVh1n0eACORfAAAQPSvw5sM235.jpg'}, {'plus': None, 'district': '\u6d77\u6dc0\u533a', 'businessZones': ['\u5b66\u9662\u8def', '\u4e2d\u5173\u6751', '\u77e5\u6625\u8def'], 'salary': '20k-40k', 'positionName': 'Python\u5f00\u53d1\u5de5\u7a0b\u5e08', 'createTime': '2017-09-14 10:39:42', 'promotionScoreExplain': None, 'appShow': 0, 'industryLables': ['\u5b89\u5168', 'Java', 'CRM'], 'workYear': '3-5\u5e74', 'positionId': 2879999, 'deliver': 0, 'companyLabelList': ['\u80a1\u7968\u671f\u6743', '\u7ee9\u6548\u5956\u91d1', '\u4e94\u9669\u4e00\u91d1', '\u5e26\u85aa\u5e74\u5047'], 'positionAdvantage': '\u6587\u5316\u5f00\u653e,\u5f39\u6027\u4e0d\u6253\u5361,\u53d1\u5c55\u5feb\u901f,\u4e0a\u5347\u7a7a\u95f4', 'positionLables': ['\u5b89\u5168', 'Java', 'CRM'], 'companyId': 6996, 'formatCreateTime': '10:39\u53d1\u5e03', 'score': 0, 'firstType': '\u5f00\u53d1/\u6d4b\u8bd5/\u8fd0\u7ef4\u7c7b', 'companyFullName': '\u5317\u4eac\u667a\u878d\u65f6\u4ee3\u79d1\u6280\u6709\u9650\u516c\u53f8', 'education': '\u672c\u79d1', 'city': '\u5317\u4eac', 'companySize': '150-500\u4eba', 'pcShow': 0, 'imState': 'today', 'lastLogin': 1505392606000, 'companyShortName': '\u667a\u878d\u96c6\u56e2', 'gradeDescription': None, 'jobNature': '\u5168\u804c', 'industryField': '\u91d1\u878d', 'secondType': '\u540e\u7aef\u5f00\u53d1', 'publisherId': 77669, 'adWord': 0, 'isSchoolJob': 0, 'approve': 1, 'explain': None, 'financeStage': '\u6210\u719f\u578b(C\u8f6e)', 'companyLogo': 'i/image/M00/C3/77/Cgp3O1jbzGyARd8WAABZ5faUXJ4457.jpg'}, {'plus': None, 'district': '\u6d77\u6dc0\u533a', 'businessZones': ['\u4e94\u9053\u53e3', '\u6e05\u534e\u5927\u5b66', '\u4e2d\u5173\u6751'], 'salary': '15k-30k', 'positionName': 'Python\u5f00\u53d1\u5de5\u7a0b\u5e08', 'createTime': '2017-09-14 19:16:04', 'promotionScoreExplain': None, 'appShow': 0, 'industryLables': [], 'workYear': '1-3\u5e74', 'positionId': 3232579, 'deliver': 0, 'companyLabelList': ['\u8282\u65e5\u793c\u7269', '\u5e74\u5ea6\u65c5\u6e38', '\u5b9a\u671f\u4f53\u68c0', '\u516d\u9669\u4e00\u91d1'], 'positionAdvantage': '\u516d\u9669\u4e00\u91d1,\u798f\u5229\u5f85\u9047\u4f73,\u7845\u8c37\u5f0f\u529e\u516c,\u514d\u8d39\u6c34\u679c', 'positionLables': ['node.js', '\u540e\u7aef'], 'companyId': 26508, 'formatCreateTime': '19:16\u53d1\u5e03', 'score': 0, 'firstType': '\u5f00\u53d1/\u6d4b\u8bd5/\u8fd0\u7ef4\u7c7b', 'companyFullName': '\u5317\u4eac\u6c49\u8fea\u4e16\u7eaa\u79d1\u6280\u6709\u9650\u516c\u53f8', 'education': '\u672c\u79d1', 'city': '\u5317\u4eac', 'companySize': '150-500\u4eba', 'pcShow': 0, 'imState': 'today', 'lastLogin': 1505388150000, 'companyShortName': 'iHandy', 'gradeDescription': None, 'jobNature': '\u5168\u804c', 'industryField': '\u79fb\u52a8\u4e92\u8054\u7f51', 'secondType': '\u540e\u7aef\u5f00\u53d1', 'publisherId': 1368080, 'adWord': 0, 'isSchoolJob': 0, 'approve': 1, 'explain': None, 'financeStage': '\u6210\u957f\u578b(\u4e0d\u9700\u8981\u878d\u8d44)', 'companyLogo': 'i/image/M00/13/A6/Cgp3O1bnxKGAT_c6AAAWrOvgp1A992.jpg'}, {'plus': None, 'district': '\u671d\u9633\u533a', 'businessZones': ['\u56e2\u7ed3\u6e56', '\u4e09\u91cc\u5c6f', '\u5de5\u4f53'], 'salary': '15k-30k', 'positionName': 'python\u5de5\u7a0b\u5e08', 'createTime': '2017-09-14 09:52:12', 'promotionScoreExplain': None, 'appShow': 0, 'industryLables': ['\u91d1\u878d', '\u5927\u6570\u636e', 'Java', 'MySQL', '\u6570\u636e\u5e93'], 'workYear': '1-3\u5e74', 'positionId': 3174411, 'deliver': 0, 'companyLabelList': ['\u5e74\u5e95\u53cc\u85aa', '\u7ee9\u6548\u5956\u91d1', '\u5348\u9910\u8865\u52a9', '\u5e26\u85aa\u5e74\u5047'], 'positionAdvantage': '\u4e94\u9669\u4e00\u91d1,\u53cc\u4f11,\u9910\u8865,\u5168\u52e4\u5956', 'positionLables': ['\u91d1\u878d', '\u5927\u6570\u636e', 'Java', 'MySQL', '\u6570\u636e\u5e93'], 'companyId': 118287, 'formatCreateTime': '09:52\u53d1\u5e03', 'score': 0, 'firstType': '\u5f00\u53d1/\u6d4b\u8bd5/\u8fd0\u7ef4\u7c7b', 'companyFullName': '\u4fe1\u548c\u60e0\u6c11\u6295\u8d44\u7ba1\u7406\uff08\u5317\u4eac\uff09\u6709\u9650\u516c\u53f8', 'education': '\u672c\u79d1', 'city': '\u5317\u4eac', 'companySize': '2000\u4eba\u4ee5\u4e0a', 'pcShow': 0, 'imState': 'disabled', 'lastLogin': 1505373360000, 'companyShortName': '\u4fe1\u548c\u8d22\u5bcc', 'gradeDescription': None, 'jobNature': '\u5168\u804c', 'industryField': '\u79fb\u52a8\u4e92\u8054\u7f51,\u91d1\u878d', 'secondType': '\u540e\u7aef\u5f00\u53d1', 'publisherId': 7744664, 'adWord': 0, 'isSchoolJob': 0, 'approve': 0, 'explain': None, 'financeStage': '\u6210\u719f\u578b(\u4e0d\u9700\u8981\u878d\u8d44)', 'companyLogo': 'i/image/M00/0F/26/CgqKkVbdU4CARusUAAA3syhFI7A812.jpg'}, {'plus': None, 'district': '\u6d77\u6dc0\u533a', 'businessZones': ['\u4e94\u9053\u53e3', '\u6e05\u534e\u5927\u5b66', '\u4e2d\u5173\u6751'], 'salary': '15k-25k', 'positionName': 'Python\u5f00\u53d1\u5de5\u7a0b\u5e08', 'createTime': '2017-09-14 09:33:08', 'promotionScoreExplain': None, 'appShow': 0, 'industryLables': [], 'workYear': '3-5\u5e74', 'positionId': 3167076, 'deliver': 0, 'companyLabelList': ['\u8282\u65e5\u793c\u7269', '\u80a1\u7968\u671f\u6743', '\u5e26\u85aa\u5e74\u5047', '\u6c1b\u56f4\u8f7b\u677e'], 'positionAdvantage': '\u4e94\u9669\u4e00\u91d1,\u9910\u8865,\u751f\u65e5\u4f1a,\u4f18\u79c0\u56e2\u961f', 'positionLables': ['\u8d44\u6df1', '\u9ad8\u7ea7', 'linux', 'Java'], 'companyId': 9955, 'formatCreateTime': '09:33\u53d1\u5e03', 'score': 0, 'firstType': '\u5f00\u53d1/\u6d4b\u8bd5/\u8fd0\u7ef4\u7c7b', 'companyFullName': '\u5317\u4eac\u6155\u534e\u4fe1\u606f\u79d1\u6280\u6709\u9650\u516c\u53f8', 'education': '\u672c\u79d1', 'city': '\u5317\u4eac', 'companySize': '150-500\u4eba', 'pcShow': 0, 'imState': 'today', 'lastLogin': 1505352774000, 'companyShortName': '\u5b66\u5802\u5728\u7ebf', 'gradeDescription': None, 'jobNature': '\u5168\u804c', 'industryField': '\u79fb\u52a8\u4e92\u8054\u7f51,\u6559\u80b2', 'secondType': '\u540e\u7aef\u5f00\u53d1', 'publisherId': 45948, 'adWord': 0, 'isSchoolJob': 0, 'approve': 1, 'explain': None, 'financeStage': '\u6210\u957f\u578b(B\u8f6e)', 'companyLogo': 'i/image/M00/C0/95/CgqKkVjTNBOAMRj0AABtLXqUO7M002.png'}, {'plus': None, 'district': '\u671d\u9633\u533a', 'businessZones': ['\u5de6\u5bb6\u5e84', '\u56fd\u5c55'], 'salary': '15k-30k', 'positionName': 'python\u5f00\u53d1\u5de5\u7a0b\u5e08', 'createTime': '2017-09-14 09:29:50', 'promotionScoreExplain': None, 'appShow': 0, 'industryLables': [], 'workYear': '1-3\u5e74', 'positionId': 2528713, 'deliver': 0, 'companyLabelList': ['\u6280\u80fd\u57f9\u8bad', '\u5e74\u5e95\u53cc\u85aa', '\u80a1\u7968\u671f\u6743', '\u5e26\u85aa\u5e74\u5047'], 'positionAdvantage': '\u664b\u5347\u7a7a\u95f4\u5927\uff0c\u5f85\u9047\u4f18\u3002', 'positionLables': ['\u540e\u7aef'], 'companyId': 70634, 'formatCreateTime': '09:29\u53d1\u5e03', 'score': 0, 'firstType': '\u6280\u672f', 'companyFullName': '\u8fc5\u6377\u8054\u52a8\uff08\u5317\u4eac\uff09\u79d1\u6280\u6709\u9650\u516c\u53f8', 'education': '\u672c\u79d1', 'city': '\u5317\u4eac', 'companySize': '15-50\u4eba', 'pcShow': 0, 'imState': 'today', 'lastLogin': 1505378842000, 'companyShortName': '\u5f69\u89c6', 'gradeDescription': None, 'jobNature': '\u5168\u804c', 'industryField': '\u79fb\u52a8\u4e92\u8054\u7f51', 'secondType': '\u540e\u7aef\u5f00\u53d1', 'publisherId': 1641645, 'adWord': 0, 'isSchoolJob': 0, 'approve': 1, 'explain': None, 'financeStage': '\u6210\u957f\u578b(A\u8f6e)', 'companyLogo': 'image1/M00/28/53/Cgo8PFVe9suADg6kAABRfXeWpWA248.png'}, {'plus': None, 'district': '\u6d77\u6dc0\u533a', 'businessZones': ['\u6e05\u6cb3'], 'salary': '20k-40k', 'positionName': 'Python', 'createTime': '2017-09-14 09:57:27', 'promotionScoreExplain': None, 'appShow': 0, 'industryLables': [], 'workYear': '3-5\u5e74', 'positionId': 2182008, 'deliver': 0, 'companyLabelList': ['\u7ee9\u6548\u5956\u91d1', '\u4e94\u9669\u4e00\u91d1', '\u5e26\u85aa\u5e74\u5047', '\u5b9a\u671f\u4f53\u68c0'], 'positionAdvantage': '\u6709\u6311\u6218\uff0c\u81ea\u4e3b\u52a0\u85aa\uff0c\u5927\u62ff\uff0c\u6280\u672f\u6c1b\u56f4\u597d', 'positionLables': ['\u79fb\u52a8\u533b\u7597', '\u5fae\u670d\u52a1', '\u670d\u52a1\u5668\u7814\u53d1'], 'companyId': 4510, 'formatCreateTime': '09:57\u53d1\u5e03', 'score': 0, 'firstType': '\u6280\u672f', 'companyFullName': '\u5317\u4eac\u6625\u96e8\u5929\u4e0b\u8f6f\u4ef6\u6709\u9650\u516c\u53f8', 'education': '\u672c\u79d1', 'city': '\u5317\u4eac', 'companySize': '150-500\u4eba', 'pcShow': 0, 'imState': 'today', 'lastLogin': 1505356885000, 'companyShortName': '\u6625\u96e8\u79fb\u52a8\u5065\u5eb7', 'gradeDescription': None, 'jobNature': '\u5168\u804c', 'industryField': '\u79fb\u52a8\u4e92\u8054\u7f51', 'secondType': '\u540e\u7aef\u5f00\u53d1', 'publisherId': 5821959, 'adWord': 0, 'isSchoolJob': 0, 'approve': 1, 'explain': None, 'financeStage': '\u6210\u719f\u578b(C\u8f6e)', 'companyLogo': 'i/image/M00/03/49/CgqKkVazANeAThRmAANQEn9hK_A156.png'}, {'plus': None, 'district': '\u671d\u9633\u533a', 'businessZones': None, 'salary': '25k-35k', 'positionName': 'PYTHON\u7814\u53d1\u5de5\u7a0b\u5e08', 'createTime': '2017-09-14 09:23:43', 'promotionScoreExplain': None, 'appShow': 0, 'industryLables': [], 'workYear': '3-5\u5e74', 'positionId': 3486245, 'deliver': 0, 'companyLabelList': [], 'positionAdvantage': '\u4e0a\u5e02\u516c\u53f8,\u9886\u5bfc\u597d,\u65b0\u4e1a\u52a1,\u725b\u4eba\u591a', 'positionLables': ['\u4e13\u5bb6', '\u6df1\u5ea6\u5b66\u4e60', '\u8ba1\u7b97\u673a\u89c6\u89c9', '\u4eba\u5de5\u667a\u80fd', '\u6570\u636e\u6293\u53d6', 'Hadoop\u3001Spark'], 'companyId': 124962, 'formatCreateTime': '09:23\u53d1\u5e03', 'score': 0, 'firstType': '\u5f00\u53d1/\u6d4b\u8bd5/\u8fd0\u7ef4\u7c7b', 'companyFullName': '\u6df1\u5733\u5e02\u9ea6\u8fbe\u6570\u5b57\u80a1\u4efd\u6709\u9650\u516c\u53f8', 'education': '\u672c\u79d1', 'city': '\u5317\u4eac', 'companySize': '150-500\u4eba', 'pcShow': 0, 'imState': 'today', 'lastLogin': 1505371007000, 'companyShortName': '\u9ea6\u8fbe\u6570\u5b57', 'gradeDescription': None, 'jobNature': '\u5168\u804c', 'industryField': '\u4f01\u4e1a\u670d\u52a1,\u6570\u636e\u670d\u52a1', 'secondType': '\u6570\u636e\u5f00\u53d1', 'publisherId': 4815379, 'adWord': 0, 'isSchoolJob': 0, 'approve': 0, 'explain': None, 'financeStage': '\u4e0a\u5e02\u516c\u53f8', 'companyLogo': 'i/image/M00/20/F2/Cgp3O1cPW1qAS2agAACD7vmsGN8785.jpg'}, {'plus': None, 'district': '\u6d77\u6dc0\u533a', 'businessZones': ['\u6e05\u6cb3', '\u5c0f\u8425', '\u4e0a\u5730'], 'salary': '15k-30k', 'positionName': 'Python\u5f00\u53d1\u5de5\u7a0b\u5e08', 'createTime': '2017-09-14 10:21:25', 'promotionScoreExplain': None, 'appShow': 0, 'industryLables': [], 'workYear': '1-3\u5e74', 'positionId': 3192578, 'deliver': 0, 'companyLabelList': ['\u5feb\u901f\u6210\u957f', '\u514d\u8d39\u73ed\u8f66', '\u6241\u5e73\u7ba1\u7406', '\u6280\u80fd\u57f9\u8bad'], 'positionAdvantage': '\u671f\u6743', 'positionLables': ['Ruby'], 'companyId': 520, 'formatCreateTime': '10:21\u53d1\u5e03', 'score': 0, 'firstType': '\u5f00\u53d1/\u6d4b\u8bd5/\u8fd0\u7ef4\u7c7b', 'companyFullName': '\u5317\u4eac\u5c0f\u7c73\u79d1\u6280\u6709\u9650\u8d23\u4efb\u516c\u53f8', 'education': '\u672c\u79d1', 'city': '\u5317\u4eac', 'companySize': '2000\u4eba\u4ee5\u4e0a', 'pcShow': 0, 'imState': 'today', 'lastLogin': 1505386388000, 'companyShortName': '\u5c0f\u7c73', 'gradeDescription': None, 'jobNature': '\u5168\u804c', 'industryField': '\u79fb\u52a8\u4e92\u8054\u7f51', 'secondType': '\u540e\u7aef\u5f00\u53d1', 'publisherId': 4787943, 'adWord': 0, 'isSchoolJob': 0, 'approve': 1, 'explain': None, 'financeStage': '\u6210\u719f\u578b(D\u8f6e\u53ca\u4ee5\u4e0a)', 'companyLogo': 'image1/M00/00/03/CgYXBlTUV_uAY85GAAAVtFKXIv8322.jpg'}, {'plus': None, 'district': '\u671d\u9633\u533a', 'businessZones': ['\u671b\u4eac', '\u5927\u5c71\u5b50', '\u82b1\u5bb6\u5730'], 'salary': '20k-30k', 'positionName': 'Python\u5f00\u53d1', 'createTime': '2017-09-14 11:19:05', 'promotionScoreExplain': None, 'appShow': 0, 'industryLables': [], 'workYear': '3-5\u5e74', 'positionId': 3455542, 'deliver': 0, 'companyLabelList': ['\u8282\u65e5\u793c\u7269', '\u5e26\u85aa\u5e74\u5047', '\u7ee9\u6548\u5956\u91d1', '\u5e74\u5ea6\u65c5\u6e38'], 'positionAdvantage': '\u8bd5\u7528\u671f\u5168\u85aa,\u9910\u8865,\u516d\u9669\u4e00\u91d1,\u5e74\u7ec8\u5956', 'positionLables': ['node.js', 'php', 'Java', 'web'], 'companyId': 1748, 'formatCreateTime': '11:19\u53d1\u5e03', 'score': 0, 'firstType': '\u5f00\u53d1/\u6d4b\u8bd5/\u8fd0\u7ef4\u7c7b', 'companyFullName': '\u5317\u4eac\u94b1\u65b9\u94f6\u901a\u79d1\u6280\u6709\u9650\u516c\u53f8', 'education': '\u672c\u79d1', 'city': '\u5317\u4eac', 'companySize': '150-500\u4eba', 'pcShow': 0, 'imState': 'today', 'lastLogin': 1505385144000, 'companyShortName': '\u94b1\u65b9\u597d\u8fd1', 'gradeDescription': None, 'jobNature': '\u5168\u804c', 'industryField': '\u91d1\u878d', 'secondType': '\u540e\u7aef\u5f00\u53d1', 'publisherId': 12496, 'adWord': 0, 'isSchoolJob': 0, 'approve': 1, 'explain': None, 'financeStage': '\u6210\u957f\u578b(B\u8f6e)', 'companyLogo': 'i/image/M00/18/58/Cgp3O1bznDqAeSy1AACWGXZprow617.png'}, {'plus': None, 'district': '\u6d77\u6dc0\u533a', 'businessZones': ['\u4e2d\u5173\u6751', '\u4e94\u9053\u53e3', '\u6e05\u534e\u5927\u5b66'], 'salary': '13k-26k', 'positionName': 'python\u5de5\u7a0b\u5e08', 'createTime': '2017-09-14 10:18:25', 'promotionScoreExplain': None, 'appShow': 0, 'industryLables': [], 'workYear': '1-3\u5e74', 'positionId': 3065206, 'deliver': 0, 'companyLabelList': ['\u80a1\u7968\u671f\u6743', '\u6241\u5e73\u7ba1\u7406', '\u9886\u5bfc\u597d', '\u6280\u672f\u9a71\u52a8'], 'positionAdvantage': '\u63d0\u4f9b\u4e2d\u3001\u665a\u9910 \u4e94\u9669\u4e00\u91d1 \u5f39\u6027\u5de5\u4f5c\u5236', 'positionLables': ['\u5927\u6570\u636e', 'php', 'Java'], 'companyId': 100530, 'formatCreateTime': '10:18\u53d1\u5e03', 'score': 0, 'firstType': '\u5f00\u53d1/\u6d4b\u8bd5/\u8fd0\u7ef4\u7c7b', 'companyFullName': '\u5317\u4eac\u8d85\u840c\u56fd\u9645\u6587\u5316\u6709\u9650\u516c\u53f8', 'education': '\u672c\u79d1', 'city': '\u5317\u4eac', 'companySize': '50-150\u4eba', 'pcShow': 0, 'imState': 'disabled', 'lastLogin': 1505389258000, 'companyShortName': '\u8d85\u840c', 'gradeDescription': None, 'jobNature': '\u5168\u804c', 'industryField': '\u6570\u636e\u670d\u52a1,\u4f01\u4e1a\u670d\u52a1', 'secondType': '\u540e\u7aef\u5f00\u53d1', 'publisherId': 6779573, 'adWord': 0, 'isSchoolJob': 0, 'approve': 1, 'explain': None, 'financeStage': '\u6210\u957f\u578b(A\u8f6e)', 'companyLogo': 'i/image/M00/6B/23/Cgp3O1gZ7B2AZ1M2AAFb86ZGNjQ222.jpg'}, {'plus': None, 'district': '\u6d77\u6dc0\u533a', 'businessZones': ['\u5317\u4eac\u5927\u5b66', '\u4e2d\u5173\u6751', '\u82cf\u5dde\u8857'], 'salary': '13k-25k', 'positionName': 'Python', 'createTime': '2017-09-14 14:53:47', 'promotionScoreExplain': None, 'appShow': 0, 'industryLables': ['\u4e91\u8ba1\u7b97'], 'workYear': '\u4e0d\u9650', 'positionId': 2483626, 'deliver': 0, 'companyLabelList': ['\u80a1\u7968\u671f\u6743', '\u9876\u7ea7\u6280\u672f\u56e2\u961f', '\u5e26\u85aa\u5e74\u5047', '\u56fd\u9645\u5316\u7ba1\u7406'], 'positionAdvantage': '\u524d\u6cbf\u79d1\u6280,\u9760\u8c31\u56e2\u961f,\u5de5\u7a0b\u5e08\u6587\u5316,H1B\u8ba1\u5212', 'positionLables': ['\u4e91\u8ba1\u7b97'], 'companyId': 31395, 'formatCreateTime': '14:53\u53d1\u5e03', 'score': 0, 'firstType': '\u6280\u672f', 'companyFullName': '\u5317\u4eac\u51cc\u4e91\u96c0\u79d1\u6280\u6709\u9650\u516c\u53f8', 'education': '\u672c\u79d1', 'city': '\u5317\u4eac', 'companySize': '50-150\u4eba', 'pcShow': 0, 'imState': 'today', 'lastLogin': 1505386449000, 'companyShortName': '\u7075\u96c0\u4e91', 'gradeDescription': None, 'jobNature': '\u5168\u804c', 'industryField': '\u6570\u636e\u670d\u52a1,\u4f01\u4e1a\u670d\u52a1', 'secondType': '\u540e\u7aef\u5f00\u53d1', 'publisherId': 462992, 'adWord': 0, 'isSchoolJob': 0, 'approve': 1, 'explain': None, 'financeStage': '\u6210\u957f\u578b(A\u8f6e)', 'companyLogo': 'image1/M00/00/47/CgYXBlTUXOSAF2BxAABArVeLFCY330.png'}]}}, 'resubmitToken': None, 'code': 0, 'msg': None, 'success': True, 'requestId': None}\n",
        "------------------------------\n",
        "\n",
        "\u804c\u4f4d\u63cf\u8ff0\uff1a\n",
        "\n",
        "\u53c2\u4e0e\u516c\u53f8\u65b0\u4e00\u4ee3\u9762\u5411\u751f\u547d\u79d1\u5b66\u884c\u4e1a\u4e91\u670d\u52a1\u5e94\u7528\u53ca\u5e73\u53f0\u7684\u5f00\u53d1\u3002\n",
        "\n",
        "\u5de5\u4f5c\u804c\u8d23\uff1a\n",
        "\n",
        "\u4e91\u670d\u52a1\u8f6f\u4ef6\u4ea7\u54c1\u7684\u67b6\u6784\u8bbe\u8ba1\u4e0e\u5f00\u53d1\n",
        "\u4e0e\u8bbe\u8ba1\u3001\u4ea7\u54c1\u53ca\u524d\u7aef\u4eba\u5458\u6c9f\u901a\uff0c\u4fdd\u8bc1\u4ea7\u54c1\u7684\u8d28\u91cf\u548c\u5f00\u53d1\u8fdb\u5ea6\n",
        "\u7814\u7a76\u65b0\u5174\u6280\u672f\uff0c\u5bf9\u4ea7\u54c1\u8fdb\u884c\u6301\u7eed\u4f18\u5316\n",
        "\n",
        "\n",
        "\u4efb\u804c\u8981\u6c42\uff1a\n",
        "\n",
        "\u8ba1\u7b97\u673a\u76f8\u5173\u4e13\u4e1a\u672c\u79d1\u53ca\u4ee5\u4e0a\u5b66\u5386\n",
        "\u5bf9\u5e38\u89c1\u6570\u636e\u7ed3\u6784\u548c\u9762\u5411\u5bf9\u8c61\u8bbe\u8ba1\u6709\u6df1\u5165\u7406\u89e3\n",
        "\u719f\u7ec3\u638c\u63e1Python\u8bed\u8a00\uff0c2\u5e74\u4ee5\u4e0a\u5b9e\u9645\u7ecf\u9a8c\n",
        "\u719f\u6089Python \u00a0 \u00a0 \u00a0Web\u5f00\u53d1\u6846\u67b6\u5982Django\n",
        "\u719f\u7ec3\u638c\u63e1\u6570\u636e\u5e93\u5f00\u53d1\u548c\u8bbe\u8ba1\n",
        "\u57fa\u672c\u7684\u82f1\u6587\u8bfb\u5199\u80fd\u529b\n",
        "\n",
        "\n"
       ]
      },
      {
       "output_type": "stream",
       "stream": "stdout",
       "text": [
        "\n",
        "\n",
        "\u804c\u4f4d\u63cf\u8ff0\uff1a\n",
        "\n",
        "\u5c97\u4f4d\u804c\u8d23\uff1a 1.\u8d1f\u8d23\u4ea7\u54c1\u7ba1\u7406\u6a21\u5757\u5f00\u53d1\uff1b2.\u8d1f\u8d23\u4ea7\u54c1\u81ea\u52a8\u96c6\u6210\u6d4b\u8bd5\u5de5\u5177\u5f00\u53d1\uff1b3.\u8d1f\u8d23\u5404\u79cd\u7cfb\u7edf\u8f85\u52a9\u529f\u80fd\u6a21\u5757\uff1b 4.\u8d1f\u8d23\u95ee\u9898\u5b9a\u4f4d\u5904\u7406\u7b49\u3002 \u00a0\u00a0\u00a0\u00a0\u00a0 \u4efb\u804c\u8d44\u683c\uff1a 1.\u672c\u79d1\u53ca\u4ee5\u4e0a\u5b66\u5386,\u8ba1\u7b97\u673a\u6570\u5b66\u7b49\u76f8\u5173\u4e13\u4e1a\uff1b2.\u7cbe\u901alinux \u4e0bpython\u5f00\u53d1\uff1b3.\u4e86\u89e3django/web.py/pylons/flask \u6846\u67b6\u4e00\u79cd\u53ca\u4ee5\u4e0a\uff1b4.\u719f\u6089linux\u7cfb\u7edf\u7ba1\u7406\uff1b5.\u719f\u6089TCP/IP\u53ca\u5e38\u7528\u7f51\u7edc\u534f\u8bae\uff0c\u7f51\u7edc\u8bbe\u5907\u914d\u7f6e\uff1b6.\u719f\u6089\u524d\u540e\u7aef\u5f00\u53d1\u4f18\u5148\u3002\n",
        "\n"
       ]
      },
      {
       "output_type": "stream",
       "stream": "stdout",
       "text": [
        "\n",
        "\n",
        "\u804c\u4f4d\u63cf\u8ff0\uff1a\n",
        "\n",
        "\u5c97\u4f4d\u804c\u8d23:\n",
        "1)\u00a0\u00a0 \u8d1f\u8d23python\u6027\u80fd\u5206\u6790\u5ba2\u6237\u7aef\u7684\u5f00\u53d1,\u4e3b\u8981\u9488\u5bf9\u4e0d\u540cpython\u7248\u672c\u5728\u5404\u79cdweb\u6846\u67b6\u3001\u7b2c\u4e09\u65b9\u9a71\u52a8\u5305\u4e0b\uff0c\u91c7\u96c6\u5e76\u4e0a\u62a5web\u5e94\u7528\u6027\u80fd\u6570\u636e\u3002\n",
        "2)\u00a0\u00a0 \u8d1f\u8d23\u6839\u636e\u4ea7\u54c1\u9700\u6c42\uff0c\u5b9e\u73b0\u5ba2\u6237\u7aef\u7279\u5b9a\u7684\u529f\u80fd\u3002\n",
        "\u00a0\n",
        "\u804c\u4f4d\u8981\u6c42:\n",
        "1)\u00a0\u00a0 \u8ba1\u7b97\u673a\u76f8\u5173\u4e13\u4e1a\uff0c\u5168\u65e5\u5236\u5927\u5b66\u672c\u79d1\u53ca\u4ee5\u4e0a\u5b66\u5386\uff0c\u82f1\u8bed\u8bfb\u5199\u826f\u597d;\n",
        "2)\u00a0\u00a0 \u7cbe\u901aLinux\u3001Unix\u7f16\u7a0b\uff0c\u4ee5\u53ca\u65e5\u5e38\u4f7f\u7528\u3002\u5982HTTP\u901a\u4fe1\u3001\u591a\u8fdb\u7a0b\u3001\u591a\u7ebf\u7a0b\u7b49\u8ba1\u7b97\u673a\u76f8\u5173\u6280\u672f\uff0c\u5177\u5907\u826f\u597d\u7684\u4ee3\u7801\u98ce\u683c;\n",
        "3)\u00a0\u00a0 3\u5e74\u53ca\u4ee5\u4e0apython\u7ecf\u9a8c\uff0c\u719f\u7ec3\u4f7f\u7528python\u7ecf\u5178\u7279\u6027\uff0c\u5982\u751f\u6210\u5668\u3001\u95ed\u5305\u3001\u88c5\u9970\u5668\u3001\u5f02\u6b65\u6a21\u578b\u7b49\uff0c\u4ee5\u53camonkey-pacth\u6280\u672f\uff0c\u6709\u7ecf\u5e38\u9605\u8bfb\u6e90\u4ee3\u7801\u66f4\u4f73;\n",
        "4)\u00a0\u00a0 \u719f\u6089python WEB\u5e94\u7528\u90e8\u7f72\u3001\u5f00\u53d1\u6280\u672f \uff0c\u5982django\u3001tornado\u3001Uwsgi\u7b49;\n",
        "5)\u00a0\u00a0 \u719f\u7ec3\u4f7f\u7528mysql\u3001redis\u3001mongodb\u7b49\u5e38\u89c1\u6570\u636e\u5e93;\n",
        "6)\u00a0\u00a0 \u719f\u7ec3\u638c\u63e1OO\u8bbe\u8ba1\u6a21\u5f0f ;\n",
        "7)\u00a0\u00a0 \u5584\u4e8e\u601d\u8003\uff0c\u80fd\u72ec\u7acb\u5206\u6790\u548c\u89e3\u51b3\u95ee\u9898\uff0c\u8d23\u4efb\u5fc3\u5f3a\uff0c\u5177\u5907\u826f\u597d\u7684\u56e2\u961f\u5408\u4f5c\u7cbe\u795e\u548c\u627f\u53d7\u538b\u529b\u7684\u80fd\u529b\u3002\n",
        "\u52a0\u5206\u9879\uff1a\n",
        "1)\u00a0\u00a0 \u719f\u77e5python\u89e3\u91ca\u5668\u539f\u7406\uff0c\u4ee5\u53ca\u6e90\u4ee3\u7801\u7b49\uff1b\n",
        "2)\u00a0\u00a0 \u826f\u597d\u7684\u7f16\u7a0b\u4e60\u60ef\uff0c\u4ee3\u7801\u6d01\u7656\u8005\u4f18\u5148;\n",
        "3)\u00a0\u00a0 \u719f\u6089\u6846\u67b6\u7ea7\u6d4b\u8bd5\u65b9\u6848\u8005\u4f18\u5148\u3002\n",
        "\u6709\u5f02\u6b65\u5e94\u7528\u8bbe\u8ba1\u3001\u5f00\u53d1\u8005\u4f18\u5148\n",
        "\n"
       ]
      },
      {
       "output_type": "stream",
       "stream": "stdout",
       "text": [
        "\n",
        "\n",
        "\u804c\u4f4d\u63cf\u8ff0\uff1a\n",
        "\n",
        "\u5de5\u4f5c\u804c\u8d23\uff1a1\u3001\u53c2\u4e0e\u4ea7\u54c1\u6280\u672f\u67b6\u6784\u7684\u5236\u5b9a\u548c\u4f18\u5316\uff0c\u5f00\u62d3\u548c\u5f15\u5165\u65b0\u7684\u6280\u672f\uff1b2\u3001\u8d1f\u8d23\u4ea7\u54c1\u540e\u7aef\u6846\u67b6\u548c\u4e1a\u52a1\u903b\u8f91\u5f00\u53d1\uff0c\u4e0e\u6280\u672f\u56e2\u961f\u4ea4\u6d41\u534f\u4f5c\uff1b3\u3001\u8d1f\u8d23\u4ea7\u54c1\u7684\u4ea7\u54c1\u5316\u548c\u5de5\u7a0b\u5316\uff0c\u8f93\u51fa\u76f8\u5173\u6587\u6863\u548c\u7ec4\u7ec7\u4ea7\u54c1\u57f9\u8bad\uff1b\u4efb\u804c\u8d44\u683c\uff1a1\u3001\u70ed\u7231\u65b0\u6280\u672f\uff0c\u719f\u7ec3\u638c\u63e1python\u6216\u8005\u5176\u4ed6\u811a\u672c\u8bed\u8a00\uff0c\u4e86\u89e3\u7cfb\u7edf\u5e95\u5c42\u5f00\u53d1\uff1b2\u3001\u6709\u5b8c\u6574\u8f6f\u4ef6\u9879\u76ee\u5f00\u53d1\u3001\u8fed\u4ee3\u548c\u5b9e\u65bd\u7ecf\u9a8c\uff0c\u6709\u8f6f\u786c\u4ef6\u7ed3\u5408\u9879\u76ee\u7ecf\u9a8c\u4f18\u5148\uff0c\u6709\u5b89\u9632\u884c\u4e1a\u5f00\u53d1\u7ecf\u9a8c\u8005\u4f18\u5148\uff1b3\u3001\u5bf9\u8f6f\u4ef6\u5de5\u7a0b\u548c\u7f16\u7a0b\u6280\u672f\u6709\u8f83\u6df1\u7406\u89e3\uff0c\u5177\u5907\u670d\u52a1\u5668\u7aef\u5f00\u53d1\u7ecf\u9a8c\uff0c\u719f\u6089\u7f51\u7edc\u534f\u8bae\u548c\u7f51\u7edc\u5f00\u53d1\uff0c\u5177\u5907\u5168\u6808\u5f00\u53d1\u7ecf\u9a8c\u8005\u4f18\u5148\uff1b4\u3001\u5177\u5907\u6570\u636e\u5e93\u7cfb\u7edf\u7684\u89c4\u5212\u8bbe\u8ba1\u53ca\u8c03\u4f18\u80fd\u529b\uff0c\u719f\u6089\u5e38\u89c1\u5173\u7cfb\u6570\u636e\u5e93\u548c\u975e\u5173\u7cfb\u6570\u636e\u5e93\uff0c\u6709\u6570\u636e\u5e93\u8c03\u4f18\u7ecf\u9a8c\u4f18\u5148\uff1b5\u3001\u826f\u597d\u7684\u7f16\u7a0b\u4e60\u60ef\uff0c\u8ffd\u6c42\u6781\u81f4\u7684\u4ee3\u7801\u54c1\u8d28\uff0c\u719f\u6089\u5e38\u7528\u8bbe\u8ba1\u6a21\u5f0f\u548c\u4e00\u822c\u9879\u76ee\u7684\u5f00\u53d1\u6d41\u7a0b\u3002\n",
        "\n"
       ]
      },
      {
       "output_type": "stream",
       "stream": "stdout",
       "text": [
        "\n"
       ]
      },
      {
       "ename": "AttributeError",
       "evalue": "'NoneType' object has no attribute 'text'",
       "output_type": "pyerr",
       "traceback": [
        "\u001b[0;31m---------------------------------------------------------------------------\u001b[0m\n\u001b[0;31mAttributeError\u001b[0m                            Traceback (most recent call last)",
        "\u001b[0;32m<ipython-input-41-7210d0b9aa34>\u001b[0m in \u001b[0;36m<module>\u001b[0;34m()\u001b[0m\n\u001b[1;32m     73\u001b[0m \u001b[0;34m\u001b[0m\u001b[0m\n\u001b[1;32m     74\u001b[0m \u001b[0;32mif\u001b[0m \u001b[0m__name__\u001b[0m\u001b[0;34m==\u001b[0m\u001b[0;34m\"__main__\"\u001b[0m\u001b[0;34m:\u001b[0m\u001b[0;34m\u001b[0m\u001b[0m\n\u001b[0;32m---> 75\u001b[0;31m     \u001b[0mmain\u001b[0m\u001b[0;34m(\u001b[0m\u001b[0;34m)\u001b[0m\u001b[0;34m\u001b[0m\u001b[0m\n\u001b[0m\u001b[1;32m     76\u001b[0m     \u001b[0;31m#crawl_detail()\u001b[0m\u001b[0;34m\u001b[0m\u001b[0;34m\u001b[0m\u001b[0m\n\u001b[1;32m     77\u001b[0m \u001b[0;34m\u001b[0m\u001b[0m\n",
        "\u001b[0;32m<ipython-input-41-7210d0b9aa34>\u001b[0m in \u001b[0;36mmain\u001b[0;34m()\u001b[0m\n\u001b[1;32m     59\u001b[0m  }\n\u001b[1;32m     60\u001b[0m             \u001b[0mpositionId\u001b[0m \u001b[0;34m=\u001b[0m \u001b[0mposition\u001b[0m\u001b[0;34m[\u001b[0m\u001b[0;34m\"positionId\"\u001b[0m\u001b[0;34m]\u001b[0m\u001b[0;34m\u001b[0m\u001b[0m\n\u001b[0;32m---> 61\u001b[0;31m             \u001b[0mposition_detail\u001b[0m \u001b[0;34m=\u001b[0m \u001b[0mcrawl_detail\u001b[0m\u001b[0;34m(\u001b[0m\u001b[0mpositionId\u001b[0m\u001b[0;34m)\u001b[0m\u001b[0;34m\u001b[0m\u001b[0m\n\u001b[0m\u001b[1;32m     62\u001b[0m             \u001b[0mposition_dict\u001b[0m\u001b[0;34m[\u001b[0m\u001b[0;34m\"position_detail\"\u001b[0m\u001b[0;34m]\u001b[0m \u001b[0;34m=\u001b[0m \u001b[0mposition_detail\u001b[0m\u001b[0;34m\u001b[0m\u001b[0m\n\u001b[1;32m     63\u001b[0m             \u001b[0mpositions\u001b[0m\u001b[0;34m.\u001b[0m\u001b[0mappend\u001b[0m\u001b[0;34m(\u001b[0m\u001b[0mposition_dict\u001b[0m\u001b[0;34m)\u001b[0m\u001b[0;34m\u001b[0m\u001b[0m\n",
        "\u001b[0;32m<ipython-input-41-7210d0b9aa34>\u001b[0m in \u001b[0;36mcrawl_detail\u001b[0;34m(id)\u001b[0m\n\u001b[1;32m     18\u001b[0m     \u001b[0msoup\u001b[0m \u001b[0;34m=\u001b[0m \u001b[0mBeautifulSoup\u001b[0m\u001b[0;34m(\u001b[0m\u001b[0mreq\u001b[0m\u001b[0;34m.\u001b[0m\u001b[0mtext\u001b[0m\u001b[0;34m,\u001b[0m\u001b[0;34m\"html.parser\"\u001b[0m\u001b[0;34m)\u001b[0m\u001b[0;34m\u001b[0m\u001b[0m\n\u001b[1;32m     19\u001b[0m     \u001b[0mdd\u001b[0m \u001b[0;34m=\u001b[0m \u001b[0msoup\u001b[0m\u001b[0;34m.\u001b[0m\u001b[0mfind\u001b[0m\u001b[0;34m(\u001b[0m\u001b[0;34m\"dd\"\u001b[0m\u001b[0;34m,\u001b[0m \u001b[0mattrs\u001b[0m \u001b[0;34m=\u001b[0m \u001b[0;34m{\u001b[0m\u001b[0;34m\"class\"\u001b[0m\u001b[0;34m:\u001b[0m\u001b[0;34m\"job_bt\"\u001b[0m\u001b[0;34m}\u001b[0m\u001b[0;34m)\u001b[0m\u001b[0;34m\u001b[0m\u001b[0m\n\u001b[0;32m---> 20\u001b[0;31m     \u001b[0mprint\u001b[0m \u001b[0;34m(\u001b[0m\u001b[0mdd\u001b[0m\u001b[0;34m.\u001b[0m\u001b[0mtext\u001b[0m\u001b[0;34m)\u001b[0m\u001b[0;34m\u001b[0m\u001b[0m\n\u001b[0m\u001b[1;32m     21\u001b[0m \u001b[0;31m#find_all\u6ca1\u6709text\u5c5e\u6027\u001b[0m\u001b[0;34m\u001b[0m\u001b[0;34m\u001b[0m\u001b[0m\n\u001b[1;32m     22\u001b[0m     \u001b[0;31m#print (req.text)\u001b[0m\u001b[0;34m\u001b[0m\u001b[0;34m\u001b[0m\u001b[0m\n",
        "\u001b[0;31mAttributeError\u001b[0m: 'NoneType' object has no attribute 'text'"
       ]
      }
     ],
     "prompt_number": 41
    },
    {
     "cell_type": "code",
     "collapsed": false,
     "input": [],
     "language": "python",
     "metadata": {},
     "outputs": []
    }
   ],
   "metadata": {}
  }
 ]
}